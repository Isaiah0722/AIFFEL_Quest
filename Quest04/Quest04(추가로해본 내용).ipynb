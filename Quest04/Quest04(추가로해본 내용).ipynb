{
  "nbformat": 4,
  "nbformat_minor": 0,
  "metadata": {
    "colab": {
      "provenance": [],
      "include_colab_link": true
    },
    "kernelspec": {
      "name": "python3",
      "display_name": "Python 3"
    },
    "language_info": {
      "name": "python"
    }
  },
  "cells": [
    {
      "cell_type": "markdown",
      "metadata": {
        "id": "view-in-github",
        "colab_type": "text"
      },
      "source": [
        "<a href=\"https://colab.research.google.com/github/Isaiah0722/AIFFEL_Quest/blob/main/Quest04/Quest04(%EC%B6%94%EA%B0%80%EB%A1%9C%ED%95%B4%EB%B3%B8%20%EB%82%B4%EC%9A%A9).ipynb\" target=\"_parent\"><img src=\"https://colab.research.google.com/assets/colab-badge.svg\" alt=\"Open In Colab\"/></a>"
      ]
    },
    {
      "cell_type": "code",
      "execution_count": null,
      "metadata": {
        "id": "seiJp7uI1T3k",
        "colab": {
          "base_uri": "https://localhost:8080/"
        },
        "outputId": "5eeb9b80-ab36-4c3b-fcf7-7921857b6be2"
      },
      "outputs": [
        {
          "output_type": "stream",
          "name": "stdout",
          "text": [
            "Using Comprehension:\n",
            "Nemo is swimming at 3m/s\n",
            "Dory is swimming at 5m/s\n",
            "Using Generator:\n",
            "Nemo is swimming at 3m/s.\n",
            "Dory is swimming at 5m/s.\n"
          ]
        }
      ],
      "source": [
        "from time import sleep as sl    # time 모듈에서 sleep 함수를 가져오고 sl로 이름을 지정한다.\n",
        "\n",
        "def show_fish_movement_comprehension(fish_list):\n",
        "  movements_c=[f\"{i['이름']} is swimming at {i['speed']}m/s\" for i in fish_list] #컴프리헨션을 이용해서 새로운 리스트를 만든다.\n",
        "  for i in movements_c:                              # 해당값을 2초간격으로 출력하기 위해 for문을 이용해 하나씩 출력한다.\n",
        "    print(i)\n",
        "    sl(2)\n",
        "\n",
        "\n",
        "\n",
        "def show_fish_movement_Generator(fish_list):\n",
        "    def generate_movements():                               # 제너레이터 함수를 만든다.\n",
        "        for i in fish_list:                                 # 임의의 변수에 원하는 출력값을 저장 후 반환한다.\n",
        "            yield f\"{i['이름']} is swimming at {i['speed']}m/s.\"\n",
        "\n",
        "\n",
        "    movements = generate_movements()                        # 변수선언을 통해 제너레이터를 바인딩한다.\n",
        "    for i in movements:                                     # next() 대신에 for문으로 제너레이터 함수를 2초 간격으로 출력한다.\n",
        "        print(i)\n",
        "        sl(2)\n",
        "\n",
        "fish_list = [{\"이름\":\"Nemo\", \"speed\":3},{\"이름\":\"Dory\", \"speed\": 5}]\n",
        "\n",
        "fish_list_input = []\n",
        "\n",
        "n = int(input(\"입력할 물고기의 수를 입력하세요: \"))\n",
        "\n",
        "for i in range(n):\n",
        "    fish_dict = {}\n",
        "    key = \"이름\"\n",
        "    value = input(\"물고기 이름을 입력하세요: \")\n",
        "    key1 = \"speed\"\n",
        "    value1 = input(\"물고기 속도를 입력하세요: \")\n",
        "\n",
        "    fish_dict[key] = value\n",
        "    fish_dict[key1] = value1\n",
        "\n",
        "    fish_list_input.append(fish_dict)\n",
        "\n",
        "print(\"Using Comprehension:\")\n",
        "show_fish_movement_comprehension(fish_list)\n",
        "print(\"Using Generator:\")\n",
        "show_fish_movement_Generator(fish_list)\n",
        "\n",
        "print(\"Using Comprehension(by input):\")\n",
        "show_fish_movement_comprehension(fish_list_input)\n",
        "print(\"Using Generator(by input):\")\n",
        "show_fish_movement_Generator(fish_list_input)"
      ]
    },
    {
      "cell_type": "code",
      "source": [],
      "metadata": {
        "id": "M16AksE6FMr6"
      },
      "execution_count": null,
      "outputs": []
    },
    {
      "cell_type": "code",
      "source": [],
      "metadata": {
        "id": "NxS99fWDrlad"
      },
      "execution_count": null,
      "outputs": []
    }
  ]
}
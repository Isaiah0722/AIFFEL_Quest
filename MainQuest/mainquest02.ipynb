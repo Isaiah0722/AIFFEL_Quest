{
  "nbformat": 4,
  "nbformat_minor": 0,
  "metadata": {
    "colab": {
      "provenance": [],
      "authorship_tag": "ABX9TyO1g1A8an1s+Cz2Z8Y6E+wO",
      "include_colab_link": true
    },
    "kernelspec": {
      "name": "python3",
      "display_name": "Python 3"
    },
    "language_info": {
      "name": "python"
    }
  },
  "cells": [
    {
      "cell_type": "markdown",
      "metadata": {
        "id": "view-in-github",
        "colab_type": "text"
      },
      "source": [
        "<a href=\"https://colab.research.google.com/github/Isaiah0722/AIFFEL_Quest/blob/main/MainQuest/mainquest02.ipynb\" target=\"_parent\"><img src=\"https://colab.research.google.com/assets/colab-badge.svg\" alt=\"Open In Colab\"/></a>"
      ]
    },
    {
      "cell_type": "code",
      "execution_count": 1,
      "metadata": {
        "colab": {
          "base_uri": "https://localhost:8080/",
          "height": 137
        },
        "id": "eS4TO17XeuuE",
        "outputId": "5093eb54-d85c-43be-8e0c-afe7889727b3"
      },
      "outputs": [
        {
          "output_type": "error",
          "ename": "SyntaxError",
          "evalue": "ignored",
          "traceback": [
            "\u001b[0;36m  File \u001b[0;32m\"<ipython-input-1-7ca343c7f756>\"\u001b[0;36m, line \u001b[0;32m7\u001b[0m\n\u001b[0;31m    self.student_quest_score = self.first_student_score{}\u001b[0m\n\u001b[0m                                                       ^\u001b[0m\n\u001b[0;31mSyntaxError\u001b[0m\u001b[0;31m:\u001b[0m invalid syntax\n"
          ]
        }
      ],
      "source": [
        "class Aiffel:\n",
        "    Core_list = {'김건': 0, '김경민': 0, '김소연': 0, '김영신': 0, '박근수': 0, '박영수': 0, '박영준': 0, '서원영': 0, '신지만': 0, '심지안': 0, '이규상': 0, '이윤상': 0, '이진영': 0, '임현석': 0, '전요한': 0, '전재영': 0, '조대희':0}\n",
        "    num_student_id = 0\n",
        "\n",
        "    def __init__(self):\n",
        "        self.core_list = {}\n",
        "        self.student_quest_score = self.first_student_score{}\n",
        "\n",
        "\n",
        "    def reset(): #학번 0으로 초기화\n",
        "        self.core_list = Aiffel.Core_list\n",
        "\n",
        "\n",
        "    def student_id(): # 학생 학번 입력\n",
        "\n",
        "        for i in range(len(Aiffel.Core_list)): #YYNNCXX  //YY : 연도 마지막 두 자리 (ex. 2023년은 23) NN : 기수 (온라인 4기는 25기) C : 과정 종류 (리서치=1, 코어=2) XX : 가나다순 번호\n",
        "            new_number = format(i+1, '02')\n",
        "            id = '23' + '25' + '2' + f'{i+1}'\n",
        "            Aiffel.Core_list[i] = id\n",
        "        return Aiffel.Core_list\n",
        "\n",
        "    def get_id_num():\n",
        "        Aiffel.num_student_id += len(Aiffel.Core_list)\n",
        "        print(f'생성된 학번의 개수 : {Aiffel.num_student_id}')\n",
        "\n",
        "    def first_student_score(self):\n",
        "        student_score = {}\n",
        "        for i in range(self.num_student_id):\n",
        "            student_score[i] = 0\n",
        "        return student_score\n",
        "\n",
        "    def score(self, value):\n",
        "        v = int(input('추가할 점수를 입력하시오(1,3점만 가능합니다.) : '))\n",
        "        if v == 1:\n",
        "            score += 1\n",
        "        elif v ==3:\n",
        "            score += 3\n",
        "        else:\n",
        "            score += 3\n",
        "\n",
        "    def penalty():\n",
        "        if:\n",
        "            score -= 1\n",
        "        else:\n",
        "            score -= 3\n",
        "    def display_info():\n",
        "\n",
        "\n",
        ""
      ]
    }
  ]
}
{
  "nbformat": 4,
  "nbformat_minor": 0,
  "metadata": {
    "colab": {
      "provenance": [],
      "authorship_tag": "ABX9TyOefNXIlid+pxp91YwWDJzG",
      "include_colab_link": true
    },
    "kernelspec": {
      "name": "python3",
      "display_name": "Python 3"
    },
    "language_info": {
      "name": "python"
    }
  },
  "cells": [
    {
      "cell_type": "markdown",
      "metadata": {
        "id": "view-in-github",
        "colab_type": "text"
      },
      "source": [
        "<a href=\"https://colab.research.google.com/github/Isaiah0722/AIFFEL_Quest/blob/main/Project/10.3.ipynb\" target=\"_parent\"><img src=\"https://colab.research.google.com/assets/colab-badge.svg\" alt=\"Open In Colab\"/></a>"
      ]
    },
    {
      "cell_type": "code",
      "execution_count": 4,
      "metadata": {
        "colab": {
          "base_uri": "https://localhost:8080/"
        },
        "id": "B4GCjzA_W4wf",
        "outputId": "93eda9c9-5ba1-4ea4-b259-7d9ed86b4a77"
      },
      "outputs": [
        {
          "output_type": "stream",
          "name": "stdout",
          "text": [
            "1 americano  :  2000 원\n",
            "2 latte  :  3000 원\n",
            "3 mocha  :  3000 원\n",
            "4 yuza_tea  :  2500 원\n",
            "5 green_tea  :  2500 원\n",
            "6 choco_latte  :  3000 원\n",
            "음료를 번호를 입력하세요 : 2\n",
            "HOT 음료는 1을, ICE 음료는 2를 입력하세요 : 0\n",
            "1과 2 중 하나를 입력하세요.\n",
            "\n",
            "HOT 음료는 1을, ICE 음료는 2를 입력하세요 : 2\n",
            "ICE latte  :  3000 원\n",
            "\n",
            "추가 주문은 음료 번호를, 지불은 0을 누르세요 : 1\n",
            "HOT 음료는 1을, ICE 음료는 2를 입력하세요 : 2\n",
            "추가 주문 음료 ICE americano : 3000 원\n",
            " 합계 :  5000 원\n",
            "\n",
            "추가 주문은 음료 번호를, 지불은 0을 누르세요 : 3\n",
            "HOT 음료는 1을, ICE 음료는 2를 입력하세요 : 3\n",
            "1과 2 중 하나를 입력하세요.\n",
            "\n",
            "HOT 음료는 1을, ICE 음료는 2를 입력하세요 : 2\n",
            "추가 주문 음료 ICE mocha : 3000 원\n",
            " 합계 :  8000 원\n",
            "\n",
            "추가 주문은 음료 번호를, 지불은 0을 누르세요 : 0\n",
            "주문이 완료되었습니다.\n",
            "['ICE latte', 'ICE americano', 'ICE mocha'] [3000, 2000, 3000]\n"
          ]
        }
      ],
      "source": [
        "# 커피 메뉴와 가격\n",
        "coffee = ['americano', 'latte', 'mocha']\n",
        "c_price = [2000, 3000, 3000]\n",
        "\n",
        "# 논커피 메뉴와 가격\n",
        "non_coffee = ['yuza_tea', 'green_tea', 'choco_latte']\n",
        "n_price = [2500, 2500, 3000]\n",
        "\n",
        "# 전체 메뉴와 가격\n",
        "menu = ['americano', 'latte', 'mocha', 'yuza_tea', 'green_tea', 'choco_latte']\n",
        "price = [2000, 3000, 3000, 2500, 2500, 3000]\n",
        "\n",
        "class Kiosk:\n",
        "    def __init__(self):\n",
        "        self.menu = menu\n",
        "        self.price = price\n",
        "    # 메뉴 출력 메서드\n",
        "    def menu_print(self):\n",
        "        for i in range(len(self.menu)):\n",
        "            print(i+1, self.menu[i], ' : ', self.price[i], '원')\n",
        "\n",
        "def menu_select(self):\n",
        "    self.order_menu = []  # 주문 리스트\n",
        "    self.order_price = []  # 가격 리스트\n",
        "\n",
        "    n = 0\n",
        "    while n < 1 or len(self.menu) < n:\n",
        "        n = int(input(\"음료를 번호를 입력하세요 : \"))  # 음료 번호 입력\n",
        "\n",
        "        # 메뉴판에 있는 음료 번호일 때\n",
        "        if 1 <= n & n <= len(self.menu):\n",
        "            self.order_price.append(self.price[n-1])  # 가격 리스트에 추가합니다.\n",
        "            self.price_sum = self.price[n-1]  # 합계 금액\n",
        "\n",
        "            # 메뉴판에 없는 번호일 때\n",
        "        else:\n",
        "            print(\"없는 메뉴입니다. 다시 주문해 주세요.\")\n",
        "\n",
        "\n",
        "    # 음료 온도 물어보기\n",
        "    t = 0  # 기본값을 넣어주고\n",
        "    while t != 1 and t != 2:  # 1이나 2를 입력할 때까지 물어보기\n",
        "        t= int(input(\"HOT 음료는 1을, ICE 음료는 2를 입력하세요 : \"))\n",
        "        if t == 1:\n",
        "            self.temp='HOT'\n",
        "        elif t == 2:\n",
        "            self.temp='ICE'\n",
        "        else:\n",
        "            print(\"1과 2 중 하나를 입력하세요.\\n\")\n",
        "\n",
        "    self.order_menu.append(self.temp + ' ' + self.menu[n-1])  # 주문 리스트에 추가합니다.\n",
        "    print(self.temp, self.menu[n-1], ' : ', self.price[n-1], '원')  # 온도 속성을 추가한 주문 결과를 출력합니다.\n",
        "\n",
        "    # 추가 주문 또는 지불\n",
        "    while n != 0:  # 지불을 선택하기 전까지 반복합니다.\n",
        "        print()  # 줄 바꾸면서\n",
        "        n = int(input(\"추가 주문은 음료 번호를, 지불은 0을 누르세요 : \"))  # 추가 주문 또는 지불\n",
        "\n",
        "        if n > 0 and n < len(self.menu) + 1:\n",
        "            self.t = 0  # 기본값을 넣어주고\n",
        "            while t != 1 and t != 2 :  # 1이나 2를 입력할 때까지 물어보기\n",
        "                t= int(input(\"HOT 음료는 1을, ICE 음료는 2를 입력하세요 : \"))\n",
        "                if t == 1:\n",
        "                    self.temp='HOT'\n",
        "                elif t == 2:\n",
        "                    self.temp='ICE'\n",
        "                else:\n",
        "                    print(\"1과 2 중 하나를 입력하세요.\\n\")\n",
        "\n",
        "            self.order_price.append(self.price[n-1])  # 가격 리스트에 추가합니다.\n",
        "            self.price_sum += self.price[n-1]  # 합계 금액\n",
        "            self.order_menu.append(self.temp + ' ' + self.menu[n-1])\n",
        "            print('추가 주문 음료', self.temp, self.menu[n-1], ':', self.order_price[n-1], '원\\n', '합계 : ', self.price_sum, '원')\n",
        "        else :\n",
        "            if n == 0 :  # 지불을 입력하면\n",
        "                print(\"주문이 완료되었습니다.\")\n",
        "                print(self.order_menu, self.order_price)  # 확인을 위한 리스트를 출력합니다.\n",
        "            else :  # 없는 번호를 입력할 때\n",
        "                print(\"없는 메뉴입니다. 다시 주문해 주세요.\")\n",
        "Kiosk.menu_select = menu_select\n",
        "\n",
        "a = Kiosk()  # 객체 생성\n",
        "a.menu_print()  # 메뉴 출력\n",
        "a.menu_select()"
      ]
    }
  ]
}

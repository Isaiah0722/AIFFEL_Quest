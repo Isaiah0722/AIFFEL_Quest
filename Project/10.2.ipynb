{
  "nbformat": 4,
  "nbformat_minor": 0,
  "metadata": {
    "colab": {
      "provenance": [],
      "authorship_tag": "ABX9TyPoal9jR0wBfkOJE0DBlKLg",
      "include_colab_link": true
    },
    "kernelspec": {
      "name": "python3",
      "display_name": "Python 3"
    },
    "language_info": {
      "name": "python"
    }
  },
  "cells": [
    {
      "cell_type": "markdown",
      "metadata": {
        "id": "view-in-github",
        "colab_type": "text"
      },
      "source": [
        "<a href=\"https://colab.research.google.com/github/Isaiah0722/AIFFEL_Quest/blob/main/Project/10.2.ipynb\" target=\"_parent\"><img src=\"https://colab.research.google.com/assets/colab-badge.svg\" alt=\"Open In Colab\"/></a>"
      ]
    },
    {
      "cell_type": "code",
      "execution_count": 1,
      "metadata": {
        "colab": {
          "base_uri": "https://localhost:8080/"
        },
        "id": "7r2vy9HhWoMy",
        "outputId": "9e7439d7-f528-4133-91f3-93347e4434fe"
      },
      "outputs": [
        {
          "output_type": "stream",
          "name": "stdout",
          "text": [
            "넓이를 구하고 싶은 사각형의 숫자를 써주세요.\n",
            " 1.직사각형 2.평행사변형 3.사다리꼴 \n",
            " >>>2\n",
            "평행사변형 함수는 par()입니다.\n",
            "밑변, 높이를 입력하세요. 예시 : 밑변,높이\n",
            " >>>3,4\n",
            "평행사변형의 넓이는 : 12\n"
          ]
        }
      ],
      "source": [
        "class Square:\n",
        "    def __init__(self):\n",
        "        square = int(input('넓이를 구하고 싶은 사각형의 숫자를 써주세요.\\n 1.직사각형 2.평행사변형 3.사다리꼴 \\n >>>'))\n",
        "\n",
        "        if square == 1:\n",
        "            print('직사각형 함수는 rect()입니다.')\n",
        "            self.rect()\n",
        "\n",
        "        elif square == 2:\n",
        "            print('평행사변형 함수는 par()입니다.')\n",
        "            self.par()\n",
        "\n",
        "        elif square == 3:\n",
        "            print('사다리꼴 함수는 trape()입니다.')\n",
        "            self.trape()\n",
        "        else:\n",
        "            print('1, 2, 3 중에서 다시 입력해주세요')\n",
        "\n",
        "    def rect(self):\n",
        "        width, vertical = map(int, input('가로, 세로를 입력하세요. 예시 : 가로,세로\\n >>>').split(','))\n",
        "        area = width * vertical\n",
        "        result = print('직사각형의 넓이는 : ' + str(area))\n",
        "        return result\n",
        "\n",
        "    def par(self):\n",
        "        base, vertical = map(int, input('밑변, 높이를 입력하세요. 예시 : 밑변,높이\\n >>>').split(','))\n",
        "        area = base * vertical\n",
        "        result = print('평행사변형의 넓이는 : ' + str(area))\n",
        "        return result\n",
        "    def trape(self):\n",
        "        Ubase, Lbase, vertical = map(int, input('윗변, 밑변, 높이를 입력하세요. 예시 : 윗변,밑변,높이\\n >>>').split(','))\n",
        "        area = ((Ubase+Lbase) * vertical)/2\n",
        "        result = print('사다리꼴의 넓이는 : ' + str(area))\n",
        "        return result\n",
        "\n",
        "a = Square()\n"
      ]
    }
  ]
}
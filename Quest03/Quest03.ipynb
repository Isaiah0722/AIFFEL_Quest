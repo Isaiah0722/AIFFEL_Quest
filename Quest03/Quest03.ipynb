{
  "nbformat": 4,
  "nbformat_minor": 0,
  "metadata": {
    "colab": {
      "provenance": [],
      "include_colab_link": true
    },
    "kernelspec": {
      "name": "python3",
      "display_name": "Python 3"
    },
    "language_info": {
      "name": "python"
    }
  },
  "cells": [
    {
      "cell_type": "markdown",
      "metadata": {
        "id": "view-in-github",
        "colab_type": "text"
      },
      "source": [
        "<a href=\"https://colab.research.google.com/github/Isaiah0722/AIFFEL_Quest/blob/main/Quest03/Quest03.ipynb\" target=\"_parent\"><img src=\"https://colab.research.google.com/assets/colab-badge.svg\" alt=\"Open In Colab\"/></a>"
      ]
    },
    {
      "cell_type": "code",
      "source": [
        "import re\n",
        "from google.colab import drive\n",
        "from collections import Counter\n",
        "\n",
        "drive.mount('/content/drive')\n",
        "\n",
        "def remove_symbols(text):\n",
        "    cleaned_text = re.sub(r'[^\\w\\s]', ' ', text)  # 정규표현식 패턴을 사용하여 기호를 제거하고 ' '대체합니다.\n",
        "    cleaned_text = cleaned_text.replace('\\n',' ') #\\n을 ' '으로 대체합니다.\n",
        "\n",
        "    return cleaned_text\n",
        "\n",
        "file = open('/content/drive/MyDrive/Avengers.txt') #Avengers파일 불러오기\n",
        "contents = file.read()\n",
        "file.close()\n",
        "f = remove_symbols(contents) #기호를 제거한 문자열을 임의의 변수에 저장합니다.\n",
        "new_contents = f.lower() #대문자를 소문자로 변환\n",
        "\n",
        "words = new_contents.split() #word 단위로 나누어 list에 저장\n",
        "two_grams = [' '.join(words[i:i+2]) for i in range(len(words)-1)]\n",
        "\n",
        "ngrams = zip(words, words[1:]) # 2-grams\n",
        "\n",
        "counter = Counter(ngrams)\n",
        "\n",
        "most_common = counter.most_common(1)\n",
        "print(most_common)\n"
      ],
      "metadata": {
        "colab": {
          "base_uri": "https://localhost:8080/"
        },
        "id": "9jNANrxWf8Bw",
        "outputId": "7e7cf447-234d-419f-f0de-4dee14b8d13b"
      },
      "execution_count": 50,
      "outputs": [
        {
          "output_type": "stream",
          "name": "stdout",
          "text": [
            "Drive already mounted at /content/drive; to attempt to forcibly remount, call drive.mount(\"/content/drive\", force_remount=True).\n",
            "[(('it', 's'), 68)]\n"
          ]
        }
      ]
    }
  ]
}